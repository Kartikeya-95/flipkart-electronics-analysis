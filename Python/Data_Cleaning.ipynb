{
 "cells": [
  {
   "cell_type": "code",
   "execution_count": 1,
   "metadata": {},
   "outputs": [],
   "source": [
    "import numpy as np\n",
    "import pandas as pd\n",
    "\n",
    "import glob\n",
    "\n",
    "import warnings\n",
    "warnings.filterwarnings('ignore')"
   ]
  },
  {
   "cell_type": "code",
   "execution_count": 2,
   "metadata": {},
   "outputs": [],
   "source": [
    "paths = glob.glob('../Data/*.csv')\n",
    "df = []\n",
    "for i in paths:\n",
    "    df.append(pd.read_csv(i))\n",
    "\n",
    "data = df[0]\n",
    "for i in range(1, len(paths)):\n",
    "    data = pd.concat((data, df[i]), ignore_index = True)"
   ]
  },
  {
   "cell_type": "code",
   "execution_count": 3,
   "metadata": {},
   "outputs": [
    {
     "data": {
      "text/html": [
       "<div>\n",
       "<style scoped>\n",
       "    .dataframe tbody tr th:only-of-type {\n",
       "        vertical-align: middle;\n",
       "    }\n",
       "\n",
       "    .dataframe tbody tr th {\n",
       "        vertical-align: top;\n",
       "    }\n",
       "\n",
       "    .dataframe thead th {\n",
       "        text-align: right;\n",
       "    }\n",
       "</style>\n",
       "<table border=\"1\" class=\"dataframe\">\n",
       "  <thead>\n",
       "    <tr style=\"text-align: right;\">\n",
       "      <th></th>\n",
       "      <th>category</th>\n",
       "      <th>description</th>\n",
       "      <th>details</th>\n",
       "      <th>discount</th>\n",
       "      <th>is_fassured</th>\n",
       "      <th>mrp</th>\n",
       "      <th>num_ratings</th>\n",
       "      <th>num_ratings_reviews</th>\n",
       "      <th>price</th>\n",
       "      <th>rating</th>\n",
       "      <th>timestamp</th>\n",
       "    </tr>\n",
       "  </thead>\n",
       "  <tbody>\n",
       "    <tr>\n",
       "      <th>0</th>\n",
       "      <td>Air Conditioner</td>\n",
       "      <td>Midea 1 Ton 3 Star Split AC  - White</td>\n",
       "      <td>Condenser Coil: CopperPower Consumption: 980 W...</td>\n",
       "      <td>48% off</td>\n",
       "      <td>1</td>\n",
       "      <td>₹39,600</td>\n",
       "      <td>NaN</td>\n",
       "      <td>15,595 Ratings &amp; 2,685 Reviews</td>\n",
       "      <td>₹20,499</td>\n",
       "      <td>4.2</td>\n",
       "      <td>2019-08-14 23:49:25.955540</td>\n",
       "    </tr>\n",
       "    <tr>\n",
       "      <th>1</th>\n",
       "      <td>Air Conditioner</td>\n",
       "      <td>Voltas 1.5 Ton 3 Star Split AC  - White</td>\n",
       "      <td>Condenser Coil: CopperPower Consumption: 1450 ...</td>\n",
       "      <td>45% off</td>\n",
       "      <td>1</td>\n",
       "      <td>₹51,990</td>\n",
       "      <td>NaN</td>\n",
       "      <td>5,325 Ratings &amp; 549 Reviews</td>\n",
       "      <td>₹28,499</td>\n",
       "      <td>4.2</td>\n",
       "      <td>2019-08-14 23:49:25.956537</td>\n",
       "    </tr>\n",
       "    <tr>\n",
       "      <th>2</th>\n",
       "      <td>Air Conditioner</td>\n",
       "      <td>MarQ by Flipkart 1.5 Ton 3 Star Split Inverter...</td>\n",
       "      <td>Condenser Coil: CopperPower Consumption: 1650 ...</td>\n",
       "      <td>46% off</td>\n",
       "      <td>1</td>\n",
       "      <td>₹46,999</td>\n",
       "      <td>NaN</td>\n",
       "      <td>10,058 Ratings &amp; 1,676 Reviews</td>\n",
       "      <td>₹24,999</td>\n",
       "      <td>4.2</td>\n",
       "      <td>2019-08-14 23:49:25.957534</td>\n",
       "    </tr>\n",
       "    <tr>\n",
       "      <th>3</th>\n",
       "      <td>Air Conditioner</td>\n",
       "      <td>Voltas 1.5 Ton 3 Star Split Inverter AC  - White</td>\n",
       "      <td>Condenser Coil: CopperPower Consumption: 1750 ...</td>\n",
       "      <td>42% off</td>\n",
       "      <td>1</td>\n",
       "      <td>₹55,990</td>\n",
       "      <td>NaN</td>\n",
       "      <td>4,423 Ratings &amp; 453 Reviews</td>\n",
       "      <td>₹31,999</td>\n",
       "      <td>4.2</td>\n",
       "      <td>2019-08-14 23:49:25.959529</td>\n",
       "    </tr>\n",
       "    <tr>\n",
       "      <th>4</th>\n",
       "      <td>Air Conditioner</td>\n",
       "      <td>Voltas 1.2 Ton 5 Star Split Inverter AC  - White</td>\n",
       "      <td>Condenser Coil: CopperPower Consumption: 1010 ...</td>\n",
       "      <td>43% off</td>\n",
       "      <td>1</td>\n",
       "      <td>₹54,990</td>\n",
       "      <td>NaN</td>\n",
       "      <td>3,146 Ratings &amp; 478 Reviews</td>\n",
       "      <td>₹30,999</td>\n",
       "      <td>4.1</td>\n",
       "      <td>2019-08-14 23:49:25.960526</td>\n",
       "    </tr>\n",
       "  </tbody>\n",
       "</table>\n",
       "</div>"
      ],
      "text/plain": [
       "          category                                        description  \\\n",
       "0  Air Conditioner               Midea 1 Ton 3 Star Split AC  - White   \n",
       "1  Air Conditioner            Voltas 1.5 Ton 3 Star Split AC  - White   \n",
       "2  Air Conditioner  MarQ by Flipkart 1.5 Ton 3 Star Split Inverter...   \n",
       "3  Air Conditioner   Voltas 1.5 Ton 3 Star Split Inverter AC  - White   \n",
       "4  Air Conditioner   Voltas 1.2 Ton 5 Star Split Inverter AC  - White   \n",
       "\n",
       "                                             details discount  is_fassured  \\\n",
       "0  Condenser Coil: CopperPower Consumption: 980 W...  48% off            1   \n",
       "1  Condenser Coil: CopperPower Consumption: 1450 ...  45% off            1   \n",
       "2  Condenser Coil: CopperPower Consumption: 1650 ...  46% off            1   \n",
       "3  Condenser Coil: CopperPower Consumption: 1750 ...  42% off            1   \n",
       "4  Condenser Coil: CopperPower Consumption: 1010 ...  43% off            1   \n",
       "\n",
       "       mrp num_ratings             num_ratings_reviews    price  rating  \\\n",
       "0  ₹39,600         NaN  15,595 Ratings & 2,685 Reviews  ₹20,499     4.2   \n",
       "1  ₹51,990         NaN     5,325 Ratings & 549 Reviews  ₹28,499     4.2   \n",
       "2  ₹46,999         NaN  10,058 Ratings & 1,676 Reviews  ₹24,999     4.2   \n",
       "3  ₹55,990         NaN     4,423 Ratings & 453 Reviews  ₹31,999     4.2   \n",
       "4  ₹54,990         NaN     3,146 Ratings & 478 Reviews  ₹30,999     4.1   \n",
       "\n",
       "                    timestamp  \n",
       "0  2019-08-14 23:49:25.955540  \n",
       "1  2019-08-14 23:49:25.956537  \n",
       "2  2019-08-14 23:49:25.957534  \n",
       "3  2019-08-14 23:49:25.959529  \n",
       "4  2019-08-14 23:49:25.960526  "
      ]
     },
     "execution_count": 3,
     "metadata": {},
     "output_type": "execute_result"
    }
   ],
   "source": [
    "data.head()"
   ]
  },
  {
   "cell_type": "code",
   "execution_count": 4,
   "metadata": {},
   "outputs": [
    {
     "data": {
      "text/html": [
       "<div>\n",
       "<style scoped>\n",
       "    .dataframe tbody tr th:only-of-type {\n",
       "        vertical-align: middle;\n",
       "    }\n",
       "\n",
       "    .dataframe tbody tr th {\n",
       "        vertical-align: top;\n",
       "    }\n",
       "\n",
       "    .dataframe thead th {\n",
       "        text-align: right;\n",
       "    }\n",
       "</style>\n",
       "<table border=\"1\" class=\"dataframe\">\n",
       "  <thead>\n",
       "    <tr style=\"text-align: right;\">\n",
       "      <th></th>\n",
       "      <th>category</th>\n",
       "      <th>description</th>\n",
       "      <th>details</th>\n",
       "      <th>discount</th>\n",
       "      <th>is_fassured</th>\n",
       "      <th>mrp</th>\n",
       "      <th>num_ratings</th>\n",
       "      <th>num_ratings_reviews</th>\n",
       "      <th>price</th>\n",
       "      <th>rating</th>\n",
       "      <th>timestamp</th>\n",
       "    </tr>\n",
       "  </thead>\n",
       "  <tbody>\n",
       "    <tr>\n",
       "      <th>25957</th>\n",
       "      <td>Wearable Smart Devices</td>\n",
       "      <td>Gazzet 4G V9 green Calling watch Android Smart...</td>\n",
       "      <td>NaN</td>\n",
       "      <td>58% off</td>\n",
       "      <td>1</td>\n",
       "      <td>₹5,999</td>\n",
       "      <td>(13)</td>\n",
       "      <td>NaN</td>\n",
       "      <td>₹2,499</td>\n",
       "      <td>4.0</td>\n",
       "      <td>2019-08-14 22:27:22.886805</td>\n",
       "    </tr>\n",
       "    <tr>\n",
       "      <th>25958</th>\n",
       "      <td>Wearable Smart Devices</td>\n",
       "      <td>Everycom Replacement Premium Hex Design TPU St...</td>\n",
       "      <td>NaN</td>\n",
       "      <td>42% off</td>\n",
       "      <td>0</td>\n",
       "      <td>₹699</td>\n",
       "      <td>(12)</td>\n",
       "      <td>NaN</td>\n",
       "      <td>₹399</td>\n",
       "      <td>3.3</td>\n",
       "      <td>2019-08-14 22:27:22.887803</td>\n",
       "    </tr>\n",
       "    <tr>\n",
       "      <th>25959</th>\n",
       "      <td>Wearable Smart Devices</td>\n",
       "      <td>TRENDONIX GT08-43 phone Smartwatch</td>\n",
       "      <td>NaN</td>\n",
       "      <td>84% off</td>\n",
       "      <td>0</td>\n",
       "      <td>₹4,999</td>\n",
       "      <td>0</td>\n",
       "      <td>NaN</td>\n",
       "      <td>₹799</td>\n",
       "      <td>0.0</td>\n",
       "      <td>2019-08-14 22:27:22.887803</td>\n",
       "    </tr>\n",
       "    <tr>\n",
       "      <th>25960</th>\n",
       "      <td>Wearable Smart Devices</td>\n",
       "      <td>MStick Replacement TPU Strap For Xiaomi Mi Ban...</td>\n",
       "      <td>NaN</td>\n",
       "      <td>69% off</td>\n",
       "      <td>0</td>\n",
       "      <td>₹549</td>\n",
       "      <td>(116)</td>\n",
       "      <td>NaN</td>\n",
       "      <td>₹165</td>\n",
       "      <td>3.9</td>\n",
       "      <td>2019-08-14 22:27:22.888800</td>\n",
       "    </tr>\n",
       "    <tr>\n",
       "      <th>25961</th>\n",
       "      <td>Wearable Smart Devices</td>\n",
       "      <td>ACUTAS Replacement Sports Ventilation Hole Str...</td>\n",
       "      <td>NaN</td>\n",
       "      <td>56% off</td>\n",
       "      <td>1</td>\n",
       "      <td>₹1,499</td>\n",
       "      <td>(6)</td>\n",
       "      <td>NaN</td>\n",
       "      <td>₹649</td>\n",
       "      <td>4.0</td>\n",
       "      <td>2019-08-14 22:27:22.888800</td>\n",
       "    </tr>\n",
       "  </tbody>\n",
       "</table>\n",
       "</div>"
      ],
      "text/plain": [
       "                     category  \\\n",
       "25957  Wearable Smart Devices   \n",
       "25958  Wearable Smart Devices   \n",
       "25959  Wearable Smart Devices   \n",
       "25960  Wearable Smart Devices   \n",
       "25961  Wearable Smart Devices   \n",
       "\n",
       "                                             description details discount  \\\n",
       "25957  Gazzet 4G V9 green Calling watch Android Smart...     NaN  58% off   \n",
       "25958  Everycom Replacement Premium Hex Design TPU St...     NaN  42% off   \n",
       "25959                 TRENDONIX GT08-43 phone Smartwatch     NaN  84% off   \n",
       "25960  MStick Replacement TPU Strap For Xiaomi Mi Ban...     NaN  69% off   \n",
       "25961  ACUTAS Replacement Sports Ventilation Hole Str...     NaN  56% off   \n",
       "\n",
       "       is_fassured     mrp num_ratings num_ratings_reviews   price  rating  \\\n",
       "25957            1  ₹5,999        (13)                 NaN  ₹2,499     4.0   \n",
       "25958            0    ₹699        (12)                 NaN    ₹399     3.3   \n",
       "25959            0  ₹4,999           0                 NaN    ₹799     0.0   \n",
       "25960            0    ₹549       (116)                 NaN    ₹165     3.9   \n",
       "25961            1  ₹1,499         (6)                 NaN    ₹649     4.0   \n",
       "\n",
       "                        timestamp  \n",
       "25957  2019-08-14 22:27:22.886805  \n",
       "25958  2019-08-14 22:27:22.887803  \n",
       "25959  2019-08-14 22:27:22.887803  \n",
       "25960  2019-08-14 22:27:22.888800  \n",
       "25961  2019-08-14 22:27:22.888800  "
      ]
     },
     "execution_count": 4,
     "metadata": {},
     "output_type": "execute_result"
    }
   ],
   "source": [
    "data.tail()"
   ]
  },
  {
   "cell_type": "code",
   "execution_count": 5,
   "metadata": {},
   "outputs": [
    {
     "data": {
      "text/html": [
       "<div>\n",
       "<style scoped>\n",
       "    .dataframe tbody tr th:only-of-type {\n",
       "        vertical-align: middle;\n",
       "    }\n",
       "\n",
       "    .dataframe tbody tr th {\n",
       "        vertical-align: top;\n",
       "    }\n",
       "\n",
       "    .dataframe thead th {\n",
       "        text-align: right;\n",
       "    }\n",
       "</style>\n",
       "<table border=\"1\" class=\"dataframe\">\n",
       "  <thead>\n",
       "    <tr style=\"text-align: right;\">\n",
       "      <th></th>\n",
       "      <th>brand_names</th>\n",
       "      <th>timestamp</th>\n",
       "    </tr>\n",
       "  </thead>\n",
       "  <tbody>\n",
       "    <tr>\n",
       "      <th>0</th>\n",
       "      <td>#CELL</td>\n",
       "      <td>2019-08-19 12:57:18.281336</td>\n",
       "    </tr>\n",
       "    <tr>\n",
       "      <th>1</th>\n",
       "      <td>#TAG</td>\n",
       "      <td>2019-08-19 12:57:18.281336</td>\n",
       "    </tr>\n",
       "    <tr>\n",
       "      <th>2</th>\n",
       "      <td>007</td>\n",
       "      <td>2019-08-19 12:57:18.281336</td>\n",
       "    </tr>\n",
       "    <tr>\n",
       "      <th>3</th>\n",
       "      <td>1 Art Of Creations</td>\n",
       "      <td>2019-08-19 12:57:18.281336</td>\n",
       "    </tr>\n",
       "    <tr>\n",
       "      <th>4</th>\n",
       "      <td>10 Case</td>\n",
       "      <td>2019-08-19 12:57:18.281336</td>\n",
       "    </tr>\n",
       "  </tbody>\n",
       "</table>\n",
       "</div>"
      ],
      "text/plain": [
       "          brand_names                   timestamp\n",
       "0               #CELL  2019-08-19 12:57:18.281336\n",
       "1                #TAG  2019-08-19 12:57:18.281336\n",
       "2                 007  2019-08-19 12:57:18.281336\n",
       "3  1 Art Of Creations  2019-08-19 12:57:18.281336\n",
       "4             10 Case  2019-08-19 12:57:18.281336"
      ]
     },
     "execution_count": 5,
     "metadata": {},
     "output_type": "execute_result"
    }
   ],
   "source": [
    "brand_names = pd.read_csv('../Data/Brands/Brands_Data.csv')\n",
    "brand_names.head()"
   ]
  },
  {
   "cell_type": "code",
   "execution_count": 6,
   "metadata": {},
   "outputs": [
    {
     "data": {
      "text/plain": [
       "brand_names    0\n",
       "timestamp      0\n",
       "dtype: int64"
      ]
     },
     "execution_count": 6,
     "metadata": {},
     "output_type": "execute_result"
    }
   ],
   "source": [
    "brand_names.isnull().sum()"
   ]
  },
  {
   "cell_type": "code",
   "execution_count": 7,
   "metadata": {},
   "outputs": [
    {
     "data": {
      "text/plain": [
       "category                   0\n",
       "description                0\n",
       "details                20501\n",
       "discount                   0\n",
       "is_fassured                0\n",
       "mrp                        0\n",
       "num_ratings             5461\n",
       "num_ratings_reviews    20501\n",
       "price                      0\n",
       "rating                     0\n",
       "timestamp                  0\n",
       "dtype: int64"
      ]
     },
     "execution_count": 7,
     "metadata": {},
     "output_type": "execute_result"
    }
   ],
   "source": [
    "# Checking null values\n",
    "data.isnull().sum()"
   ]
  },
  {
   "cell_type": "code",
   "execution_count": 8,
   "metadata": {},
   "outputs": [
    {
     "data": {
      "text/plain": [
       "category                object\n",
       "description             object\n",
       "details                 object\n",
       "discount                object\n",
       "is_fassured              int64\n",
       "mrp                     object\n",
       "num_ratings             object\n",
       "num_ratings_reviews     object\n",
       "price                   object\n",
       "rating                 float64\n",
       "timestamp               object\n",
       "dtype: object"
      ]
     },
     "execution_count": 8,
     "metadata": {},
     "output_type": "execute_result"
    }
   ],
   "source": [
    "# Dtypes\n",
    "data.dtypes"
   ]
  },
  {
   "cell_type": "code",
   "execution_count": 9,
   "metadata": {},
   "outputs": [],
   "source": [
    "# Creating copy to clean the dataframe\n",
    "data1 = data.copy()"
   ]
  },
  {
   "cell_type": "code",
   "execution_count": 10,
   "metadata": {},
   "outputs": [],
   "source": [
    "import re"
   ]
  },
  {
   "cell_type": "code",
   "execution_count": 11,
   "metadata": {},
   "outputs": [],
   "source": [
    "# Fetching numbers from price and mrp columns\n",
    "def fetch_nos(x):\n",
    "    y = re.findall('\\d', x)\n",
    "    return float(''.join(y))\n",
    "\n",
    "data1['price'] = data1['price'].apply(fetch_nos)\n",
    "data1['mrp'] = data1['mrp'].apply(fetch_nos)"
   ]
  },
  {
   "cell_type": "code",
   "execution_count": 12,
   "metadata": {},
   "outputs": [
    {
     "data": {
      "text/html": [
       "<div>\n",
       "<style scoped>\n",
       "    .dataframe tbody tr th:only-of-type {\n",
       "        vertical-align: middle;\n",
       "    }\n",
       "\n",
       "    .dataframe tbody tr th {\n",
       "        vertical-align: top;\n",
       "    }\n",
       "\n",
       "    .dataframe thead th {\n",
       "        text-align: right;\n",
       "    }\n",
       "</style>\n",
       "<table border=\"1\" class=\"dataframe\">\n",
       "  <thead>\n",
       "    <tr style=\"text-align: right;\">\n",
       "      <th></th>\n",
       "      <th>price</th>\n",
       "      <th>mrp</th>\n",
       "    </tr>\n",
       "  </thead>\n",
       "  <tbody>\n",
       "    <tr>\n",
       "      <th>0</th>\n",
       "      <td>20499.0</td>\n",
       "      <td>39600.0</td>\n",
       "    </tr>\n",
       "    <tr>\n",
       "      <th>1</th>\n",
       "      <td>28499.0</td>\n",
       "      <td>51990.0</td>\n",
       "    </tr>\n",
       "    <tr>\n",
       "      <th>2</th>\n",
       "      <td>24999.0</td>\n",
       "      <td>46999.0</td>\n",
       "    </tr>\n",
       "    <tr>\n",
       "      <th>3</th>\n",
       "      <td>31999.0</td>\n",
       "      <td>55990.0</td>\n",
       "    </tr>\n",
       "    <tr>\n",
       "      <th>4</th>\n",
       "      <td>30999.0</td>\n",
       "      <td>54990.0</td>\n",
       "    </tr>\n",
       "  </tbody>\n",
       "</table>\n",
       "</div>"
      ],
      "text/plain": [
       "     price      mrp\n",
       "0  20499.0  39600.0\n",
       "1  28499.0  51990.0\n",
       "2  24999.0  46999.0\n",
       "3  31999.0  55990.0\n",
       "4  30999.0  54990.0"
      ]
     },
     "execution_count": 12,
     "metadata": {},
     "output_type": "execute_result"
    }
   ],
   "source": [
    "data1[['price', 'mrp']].head()"
   ]
  },
  {
   "cell_type": "code",
   "execution_count": 13,
   "metadata": {},
   "outputs": [
    {
     "data": {
      "text/plain": [
       "0          1775\n",
       "50% off    1011\n",
       "70% off     712\n",
       "60% off     614\n",
       "73% off     536\n",
       "           ... \n",
       "90% off       1\n",
       "₹2 off        1\n",
       "₹4 off        1\n",
       "₹3 off        1\n",
       "₹13 off       1\n",
       "Name: discount, Length: 95, dtype: int64"
      ]
     },
     "execution_count": 13,
     "metadata": {},
     "output_type": "execute_result"
    }
   ],
   "source": [
    "data1['discount'].value_counts()"
   ]
  },
  {
   "cell_type": "markdown",
   "metadata": {},
   "source": [
    "In discount column, there are entries as 0 which means no discount. Apart from this percentage discount is there and discount in ruppee is also there. <br>\n",
    "We convert all the value as percentage discount."
   ]
  },
  {
   "cell_type": "code",
   "execution_count": 14,
   "metadata": {},
   "outputs": [],
   "source": [
    "# Fetching percentage of discount from discount column\n",
    "def percent_discount(x):\n",
    "    if x[2].strip() == '0' or '%' in x[2]:\n",
    "        y = re.findall('\\d', x[2])\n",
    "        return float(''.join(y))\n",
    "    else:\n",
    "        return (round((x[0] - x[1])/x[0], 2))\n",
    "\n",
    "data1['discount (%)'] = data1[['mrp', 'price', 'discount']].apply(percent_discount, axis = 1)"
   ]
  },
  {
   "cell_type": "code",
   "execution_count": 15,
   "metadata": {},
   "outputs": [
    {
     "data": {
      "text/plain": [
       "0.00     1775\n",
       "50.00    1011\n",
       "70.00     712\n",
       "60.00     614\n",
       "73.00     536\n",
       "         ... \n",
       "0.04        3\n",
       "0.02        1\n",
       "0.03        1\n",
       "0.07        1\n",
       "90.00       1\n",
       "Name: discount (%), Length: 94, dtype: int64"
      ]
     },
     "execution_count": 15,
     "metadata": {},
     "output_type": "execute_result"
    }
   ],
   "source": [
    "data1['discount (%)'].value_counts()"
   ]
  },
  {
   "cell_type": "code",
   "execution_count": 16,
   "metadata": {},
   "outputs": [
    {
     "data": {
      "text/plain": [
       "discount        0\n",
       "discount (%)    0\n",
       "dtype: int64"
      ]
     },
     "execution_count": 16,
     "metadata": {},
     "output_type": "execute_result"
    }
   ],
   "source": [
    "data1[['discount', 'discount (%)']].isnull().sum()"
   ]
  },
  {
   "cell_type": "code",
   "execution_count": 17,
   "metadata": {},
   "outputs": [],
   "source": [
    "# Filling null values in 'num_ratings' column with number of ratings from 'num_ratings_reviews' column\n",
    "\n",
    "def ratings(x):\n",
    "    if pd.isnull(x[0]):\n",
    "        rt = re.findall('\\d', x[1].split('&')[0])\n",
    "        return float(''.join(rt))\n",
    "    else:\n",
    "        rt = re.findall('\\d', x[0])\n",
    "        return float(''.join(rt))\n",
    "\n",
    "data1['num_ratings'] = data1[['num_ratings', 'num_ratings_reviews']].apply(ratings, axis = 1)"
   ]
  },
  {
   "cell_type": "code",
   "execution_count": 18,
   "metadata": {},
   "outputs": [
    {
     "data": {
      "text/plain": [
       "0    15595.0\n",
       "1     5325.0\n",
       "2    10058.0\n",
       "3     4423.0\n",
       "4     3146.0\n",
       "Name: num_ratings, dtype: float64"
      ]
     },
     "execution_count": 18,
     "metadata": {},
     "output_type": "execute_result"
    }
   ],
   "source": [
    "data1['num_ratings'].iloc[:5]"
   ]
  },
  {
   "cell_type": "code",
   "execution_count": 19,
   "metadata": {},
   "outputs": [
    {
     "data": {
      "text/plain": [
       "25961      6.0\n",
       "25960    116.0\n",
       "25959      0.0\n",
       "25958     12.0\n",
       "25957     13.0\n",
       "Name: num_ratings, dtype: float64"
      ]
     },
     "execution_count": 19,
     "metadata": {},
     "output_type": "execute_result"
    }
   ],
   "source": [
    "data1['num_ratings'].iloc[-1: -6: -1]"
   ]
  },
  {
   "cell_type": "code",
   "execution_count": 20,
   "metadata": {},
   "outputs": [
    {
     "data": {
      "text/plain": [
       "0"
      ]
     },
     "execution_count": 20,
     "metadata": {},
     "output_type": "execute_result"
    }
   ],
   "source": [
    "data1['num_ratings'].isnull().sum()"
   ]
  },
  {
   "cell_type": "markdown",
   "metadata": {},
   "source": [
    "'num_values' column has been taken care of and there is no null values now. Also, from the first and last five values in 'num_rating' columns, we can see that transformation has been done correctly."
   ]
  },
  {
   "cell_type": "code",
   "execution_count": 21,
   "metadata": {},
   "outputs": [
    {
     "data": {
      "text/plain": [
       "0                              1606\n",
       "4 Ratings & 0 Reviews            58\n",
       "3 Ratings & 0 Reviews            57\n",
       "7 Ratings & 0 Reviews            57\n",
       "8 Ratings & 0 Reviews            51\n",
       "                               ... \n",
       "2,778 Ratings & 447 Reviews       1\n",
       "257 Ratings & 40 Reviews          1\n",
       "499 Ratings & 112 Reviews         1\n",
       "87 Ratings & 4 Reviews            1\n",
       "4,176 Ratings & 925 Reviews       1\n",
       "Name: num_ratings_reviews, Length: 1861, dtype: int64"
      ]
     },
     "execution_count": 21,
     "metadata": {},
     "output_type": "execute_result"
    }
   ],
   "source": [
    "data1['num_ratings_reviews'].value_counts()"
   ]
  },
  {
   "cell_type": "code",
   "execution_count": 22,
   "metadata": {},
   "outputs": [],
   "source": [
    "# Creating a new column as 'num_reviews' to capture number of reviews on a product from 'num_ratings_reviews' column\n",
    "# Note: 0 in 'num_ratings_reviews' column means there is no rating and no review for that product\n",
    "\n",
    "def reviews(x):\n",
    "    if pd.notnull(x):\n",
    "        rw = re.findall('\\d', x.split('&')[-1])   # It will handle conditions for both one and two element list\n",
    "        return float(''.join(rw))\n",
    "    else:\n",
    "        return x\n",
    "    \n",
    "data1['num_reviews'] = data1['num_ratings_reviews'].apply(reviews)"
   ]
  },
  {
   "cell_type": "code",
   "execution_count": 23,
   "metadata": {},
   "outputs": [
    {
     "data": {
      "text/plain": [
       "0    2685.0\n",
       "1     549.0\n",
       "2    1676.0\n",
       "3     453.0\n",
       "4     478.0\n",
       "Name: num_reviews, dtype: float64"
      ]
     },
     "execution_count": 23,
     "metadata": {},
     "output_type": "execute_result"
    }
   ],
   "source": [
    "data1['num_reviews'].iloc[:5]"
   ]
  },
  {
   "cell_type": "code",
   "execution_count": 24,
   "metadata": {},
   "outputs": [
    {
     "data": {
      "text/plain": [
       "25961   NaN\n",
       "25960   NaN\n",
       "25959   NaN\n",
       "25958   NaN\n",
       "25957   NaN\n",
       "Name: num_reviews, dtype: float64"
      ]
     },
     "execution_count": 24,
     "metadata": {},
     "output_type": "execute_result"
    }
   ],
   "source": [
    "data1['num_reviews'].iloc[-1 : -6 : -1]"
   ]
  },
  {
   "cell_type": "code",
   "execution_count": 25,
   "metadata": {},
   "outputs": [
    {
     "data": {
      "text/plain": [
       "True"
      ]
     },
     "execution_count": 25,
     "metadata": {},
     "output_type": "execute_result"
    }
   ],
   "source": [
    "data1['num_reviews'].isnull().sum() == data1['num_ratings_reviews'].isnull().sum()"
   ]
  },
  {
   "cell_type": "markdown",
   "metadata": {},
   "source": [
    "'num_reviews' column has been correctly created is has null values, means reviews for that products are not captured during scraping.  "
   ]
  },
  {
   "cell_type": "code",
   "execution_count": 47,
   "metadata": {},
   "outputs": [],
   "source": [
    "keywords = []\n",
    "for i in brand_names['brand_names']:\n",
    "     keywords.append(i.strip().split())"
   ]
  },
  {
   "cell_type": "code",
   "execution_count": 48,
   "metadata": {},
   "outputs": [],
   "source": [
    "# Fetching brand from description where brand matches brand_names\n",
    "\n",
    "def fetch_brand(x):\n",
    "    words = x.lower().strip().split()[:2]\n",
    "    brand, y = '', []\n",
    "    for i in keywords:\n",
    "        k = [a.lower() for a in i]\n",
    "        if ((words[0].lower() in k) & (words[1].lower() in k)):\n",
    "            brand = ' '.join(i)\n",
    "            break\n",
    "        \n",
    "    else:\n",
    "        brand = x.strip().split()[0]\n",
    "        \n",
    "    return brand"
   ]
  },
  {
   "cell_type": "code",
   "execution_count": 49,
   "metadata": {},
   "outputs": [],
   "source": [
    "# Will take some time\n",
    "data1['brand'] = data1['description'].apply(fetch_brand)"
   ]
  },
  {
   "cell_type": "code",
   "execution_count": 59,
   "metadata": {
    "scrolled": false
   },
   "outputs": [
    {
     "data": {
      "text/plain": [
       "category                object\n",
       "description             object\n",
       "details                 object\n",
       "discount                object\n",
       "is_fassured              int64\n",
       "mrp                    float64\n",
       "num_ratings            float64\n",
       "num_ratings_reviews     object\n",
       "price                  float64\n",
       "rating                 float64\n",
       "timestamp               object\n",
       "discount (%)           float64\n",
       "num_reviews            float64\n",
       "brand                   object\n",
       "dtype: object"
      ]
     },
     "execution_count": 59,
     "metadata": {},
     "output_type": "execute_result"
    }
   ],
   "source": [
    "data1.dtypes"
   ]
  },
  {
   "cell_type": "code",
   "execution_count": 60,
   "metadata": {},
   "outputs": [],
   "source": [
    "# Exporting cleaned dataframe\n",
    "data1[\n",
    "    ['category', 'brand', 'description', 'details', 'is_fassured', 'rating', 'discount (%)', 'price', 'mrp', 'num_ratings',\n",
    "    'num_reviews', 'timestamp']\n",
    "].to_csv('../Data/Cleaned_Data/Cleaned_Data.csv', index = False)"
   ]
  }
 ],
 "metadata": {
  "kernelspec": {
   "display_name": "Python 3",
   "language": "python",
   "name": "python3"
  },
  "language_info": {
   "codemirror_mode": {
    "name": "ipython",
    "version": 3
   },
   "file_extension": ".py",
   "mimetype": "text/x-python",
   "name": "python",
   "nbconvert_exporter": "python",
   "pygments_lexer": "ipython3",
   "version": "3.7.3"
  }
 },
 "nbformat": 4,
 "nbformat_minor": 2
}
